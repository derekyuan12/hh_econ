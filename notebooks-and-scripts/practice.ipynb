{
  "nbformat": 4,
  "nbformat_minor": 0,
  "metadata": {
    "colab": {
      "provenance": [],
      "authorship_tag": "ABX9TyMXidY1gqrk82PDGkH4C1YM",
      "include_colab_link": true
    },
    "kernelspec": {
      "name": "python3",
      "display_name": "Python 3"
    },
    "language_info": {
      "name": "python"
    }
  },
  "cells": [
    {
      "cell_type": "markdown",
      "metadata": {
        "id": "view-in-github",
        "colab_type": "text"
      },
      "source": [
        "<a href=\"https://colab.research.google.com/github/derekyuan12/hh_econ/blob/main/notebooks-and-scripts/practice.ipynb\" target=\"_parent\"><img src=\"https://colab.research.google.com/assets/colab-badge.svg\" alt=\"Open In Colab\"/></a>"
      ]
    },
    {
      "cell_type": "code",
      "execution_count": null,
      "metadata": {
        "id": "eFKKuhdVckF-"
      },
      "outputs": [],
      "source": [
        "import pandas as pd\n",
        "\n",
        "# Parsing all pages using the previously defined function\n",
        "all_school_data = []\n",
        "for page_text in pdf_text:\n",
        "    page_data = parse_school_data(page_text)\n",
        "    all_school_data.extend(page_data)\n",
        "\n",
        "# Convert the list of dictionaries into a DataFrame\n",
        "df_schools = pd.DataFrame(all_school_data)\n",
        "\n",
        "# Display the DataFrame to ensure all data is captured correctly\n",
        "df_schools.head()\n"
      ]
    }
  ]
}